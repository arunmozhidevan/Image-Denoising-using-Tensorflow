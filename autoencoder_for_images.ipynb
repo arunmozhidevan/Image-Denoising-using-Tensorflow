{
  "nbformat": 4,
  "nbformat_minor": 0,
  "metadata": {
    "colab": {
      "name": "autoencoder for images.ipynb",
      "provenance": []
    },
    "kernelspec": {
      "name": "python3",
      "display_name": "Python 3"
    },
    "language_info": {
      "name": "python"
    }
  },
  "cells": [
    {
      "cell_type": "code",
      "metadata": {
        "id": "Ob6jcSBDNJQG"
      },
      "source": [
        "import pandas as pd\n",
        "import numpy as np\n",
        "import matplotlib.pyplot as plt\n",
        "from tensorflow.keras. mnist"
      ],
      "execution_count": 1,
      "outputs": []
    },
    {
      "cell_type": "code",
      "metadata": {
        "colab": {
          "base_uri": "https://localhost:8080/"
        },
        "id": "UOAL4LAkNUgN",
        "outputId": "ad2ec431-b024-40ff-a373-520f64bed622"
      },
      "source": [
        "(X_train, y_train), (X_test, y_test) = mnist.load_data()"
      ],
      "execution_count": 2,
      "outputs": [
        {
          "output_type": "stream",
          "text": [
            "Downloading data from https://storage.googleapis.com/tensorflow/tf-keras-datasets/mnist.npz\n",
            "11493376/11490434 [==============================] - 0s 0us/step\n"
          ],
          "name": "stdout"
        }
      ]
    },
    {
      "cell_type": "code",
      "metadata": {
        "colab": {
          "base_uri": "https://localhost:8080/",
          "height": 282
        },
        "id": "ZqUJT7oONctL",
        "outputId": "36876002-f92c-496b-f723-fcbba8288061"
      },
      "source": [
        "plt.imshow(X_test[0])"
      ],
      "execution_count": 3,
      "outputs": [
        {
          "output_type": "execute_result",
          "data": {
            "text/plain": [
              "<matplotlib.image.AxesImage at 0x7f4abcf6a990>"
            ]
          },
          "metadata": {
            "tags": []
          },
          "execution_count": 3
        },
        {
          "output_type": "display_data",
          "data": {
            "image/png": "[encoded data removed]",
            "text/plain": [
              "<Figure size 432x288 with 1 Axes>"
            ]
          },
          "metadata": {
            "tags": [],
            "needs_background": "light"
          }
        }
      ]
    },
    {
      "cell_type": "code",
      "metadata": {
        "id": "jfTQX1S6Ngk7"
      },
      "source": [
        "X_train = X_train/255 \n",
        "X_test = X_test/255"
      ],
      "execution_count": 4,
      "outputs": []
    },
    {
      "cell_type": "code",
      "metadata": {
        "id": "2Giq8jftNnbt"
      },
      "source": [
        "from tensorflow.keras.layers import Dense, Flatten, Reshape\n",
        "from tensorflow.keras.models import Sequential\n",
        "from tensorflow.keras.optimizers import SGD"
      ],
      "execution_count": 5,
      "outputs": []
    },
    {
      "cell_type": "code",
      "metadata": {
        "colab": {
          "base_uri": "https://localhost:8080/"
        },
        "id": "HmpDv12sN498",
        "outputId": "3e4b90bd-bdee-4def-8c5a-bf2fb265f3b4"
      },
      "source": [
        "X_train.shape"
      ],
      "execution_count": 6,
      "outputs": [
        {
          "output_type": "execute_result",
          "data": {
            "text/plain": [
              "(60000, 28, 28)"
            ]
          },
          "metadata": {
            "tags": []
          },
          "execution_count": 6
        }
      ]
    },
    {
      "cell_type": "code",
      "metadata": {
        "colab": {
          "base_uri": "https://localhost:8080/"
        },
        "id": "fCLnybX8PflE",
        "outputId": "3dd6b224-f082-4d28-f1b0-8f4f1a44576b"
      },
      "source": [
        "#output dense\n",
        "28*28"
      ],
      "execution_count": 14,
      "outputs": [
        {
          "output_type": "execute_result",
          "data": {
            "text/plain": [
              "784"
            ]
          },
          "metadata": {
            "tags": []
          },
          "execution_count": 14
        }
      ]
    },
    {
      "cell_type": "code",
      "metadata": {
        "id": "Y6SSEjOlOOUi"
      },
      "source": [
        "encoder = Sequential()\n",
        "encoder.add(Flatten(input_shape=[28,28]))\n",
        "encoder.add(Dense(400,activation='relu'))\n",
        "encoder.add(Dense(200,activation='relu'))\n",
        "encoder.add(Dense(100,activation='relu'))\n",
        "encoder.add(Dense(50,activation='relu'))\n",
        "encoder.add(Dense(25,activation='relu'))"
      ],
      "execution_count": 48,
      "outputs": []
    },
    {
      "cell_type": "code",
      "metadata": {
        "id": "iz3MABN8Oq9i"
      },
      "source": [
        "decoder = Sequential()\n",
        "decoder.add(Dense(50,input_shape=[25],activation='relu'))\n",
        "decoder.add(Dense(100,activation='relu'))\n",
        "decoder.add(Dense(200,activation='relu'))\n",
        "decoder.add(Dense(400,activation='relu'))\n",
        "decoder.add(Dense(784,activation='sigmoid'))\n",
        "decoder.add(Reshape([28,28]))"
      ],
      "execution_count": 49,
      "outputs": []
    },
    {
      "cell_type": "code",
      "metadata": {
        "id": "q-FcZnwoPp-N"
      },
      "source": [
        "autoencoder = Sequential([encoder,decoder])\n",
        "autoencoder.compile(loss='binary_crossentropy',optimizer=SGD(lr=3),metrics=['accuracy'])"
      ],
      "execution_count": 50,
      "outputs": []
    },
    {
      "cell_type": "code",
      "metadata": {
        "colab": {
          "base_uri": "https://localhost:8080/"
        },
        "id": "P3DStMGtP24K",
        "outputId": "d8ce19d7-1255-4978-ddcf-a224a0aa6cc9"
      },
      "source": [
        "autoencoder.fit(X_train,X_train,epochs=20,\n",
        "                validation_data=(X_test,X_test))"
      ],
      "execution_count": 51,
      "outputs": [
        {
          "output_type": "stream",
          "text": [
            "Epoch 1/20\n",
            "1875/1875 [==============================] - 21s 11ms/step - loss: 0.2806 - accuracy: 0.0861 - val_loss: 0.1811 - val_accuracy: 0.1623\n",
            "Epoch 2/20\n",
            "1875/1875 [==============================] - 19s 10ms/step - loss: 0.1731 - accuracy: 0.1785 - val_loss: 0.1504 - val_accuracy: 0.2083\n",
            "Epoch 3/20\n",
            "1875/1875 [==============================] - 19s 10ms/step - loss: 0.1499 - accuracy: 0.2123 - val_loss: 0.1401 - val_accuracy: 0.2264\n",
            "Epoch 4/20\n",
            "1875/1875 [==============================] - 19s 10ms/step - loss: 0.1405 - accuracy: 0.2266 - val_loss: 0.1323 - val_accuracy: 0.2374\n",
            "Epoch 5/20\n",
            "1875/1875 [==============================] - 19s 10ms/step - loss: 0.1342 - accuracy: 0.2344 - val_loss: 0.1276 - val_accuracy: 0.2350\n",
            "Epoch 6/20\n",
            "1875/1875 [==============================] - 19s 10ms/step - loss: 0.1286 - accuracy: 0.2420 - val_loss: 0.1248 - val_accuracy: 0.2430\n",
            "Epoch 7/20\n",
            "1875/1875 [==============================] - 19s 10ms/step - loss: 0.1254 - accuracy: 0.2453 - val_loss: 0.1234 - val_accuracy: 0.2463\n",
            "Epoch 8/20\n",
            "1875/1875 [==============================] - 19s 10ms/step - loss: 0.1222 - accuracy: 0.2506 - val_loss: 0.1196 - val_accuracy: 0.2507\n",
            "Epoch 9/20\n",
            "1875/1875 [==============================] - 19s 10ms/step - loss: 0.1199 - accuracy: 0.2535 - val_loss: 0.1176 - val_accuracy: 0.2542\n",
            "Epoch 10/20\n",
            "1875/1875 [==============================] - 19s 10ms/step - loss: 0.1179 - accuracy: 0.2564 - val_loss: 0.1175 - val_accuracy: 0.2526\n",
            "Epoch 11/20\n",
            "1875/1875 [==============================] - 19s 10ms/step - loss: 0.1163 - accuracy: 0.2592 - val_loss: 0.1145 - val_accuracy: 0.2569\n",
            "Epoch 12/20\n",
            "1875/1875 [==============================] - 19s 10ms/step - loss: 0.1148 - accuracy: 0.2605 - val_loss: 0.1121 - val_accuracy: 0.2557\n",
            "Epoch 13/20\n",
            "1875/1875 [==============================] - 19s 10ms/step - loss: 0.1135 - accuracy: 0.2625 - val_loss: 0.1139 - val_accuracy: 0.2569\n",
            "Epoch 14/20\n",
            "1875/1875 [==============================] - 19s 10ms/step - loss: 0.1123 - accuracy: 0.2646 - val_loss: 0.1127 - val_accuracy: 0.2577\n",
            "Epoch 15/20\n",
            "1875/1875 [==============================] - 19s 10ms/step - loss: 0.1110 - accuracy: 0.2653 - val_loss: 0.1101 - val_accuracy: 0.2648\n",
            "Epoch 16/20\n",
            "1875/1875 [==============================] - 19s 10ms/step - loss: 0.1099 - accuracy: 0.2682 - val_loss: 0.1099 - val_accuracy: 0.2669\n",
            "Epoch 17/20\n",
            "1875/1875 [==============================] - 19s 10ms/step - loss: 0.1092 - accuracy: 0.2679 - val_loss: 0.1092 - val_accuracy: 0.2650\n",
            "Epoch 18/20\n",
            "1875/1875 [==============================] - 19s 10ms/step - loss: 0.1083 - accuracy: 0.2705 - val_loss: 0.1131 - val_accuracy: 0.2620\n",
            "Epoch 19/20\n",
            "1875/1875 [==============================] - 19s 10ms/step - loss: 0.1075 - accuracy: 0.2722 - val_loss: 0.1175 - val_accuracy: 0.2629\n",
            "Epoch 20/20\n",
            "1875/1875 [==============================] - 19s 10ms/step - loss: 0.1069 - accuracy: 0.2737 - val_loss: 0.1108 - val_accuracy: 0.2552\n"
          ],
          "name": "stdout"
        },
        {
          "output_type": "execute_result",
          "data": {
            "text/plain": [
              "<tensorflow.python.keras.callbacks.History at 0x7f4ab36c3610>"
            ]
          },
          "metadata": {
            "tags": []
          },
          "execution_count": 51
        }
      ]
    },
    {
      "cell_type": "code",
      "metadata": {
        "id": "GsZyTzNkQVby"
      },
      "source": [
        "lossess = pd.DataFrame(autoencoder.history.history)"
      ],
      "execution_count": 52,
      "outputs": []
    },
    {
      "cell_type": "code",
      "metadata": {
        "colab": {
          "base_uri": "https://localhost:8080/",
          "height": 282
        },
        "id": "2zJ7XvehRvLK",
        "outputId": "bd6c6b6b-e958-4a1b-b98f-6da1a6a46f0b"
      },
      "source": [
        "lossess[18:].plot()"
      ],
      "execution_count": 53,
      "outputs": [
        {
          "output_type": "execute_result",
          "data": {
            "text/plain": [
              "<matplotlib.axes._subplots.AxesSubplot at 0x7f4ab1a67990>"
            ]
          },
          "metadata": {
            "tags": []
          },
          "execution_count": 53
        },
        {
          "output_type": "display_data",
          "data": {
            "image/png": "[encoded data removed]",
            "text/plain": [
              "<Figure size 432x288 with 1 Axes>"
            ]
          },
          "metadata": {
            "tags": [],
            "needs_background": "light"
          }
        }
      ]
    },
    {
      "cell_type": "code",
      "metadata": {
        "colab": {
          "base_uri": "https://localhost:8080/",
          "height": 669
        },
        "id": "sKG4rmjRRwrB",
        "outputId": "a13dc032-4ff8-439f-b88b-3bd9a375a84a"
      },
      "source": [
        "lossess"
      ],
      "execution_count": 54,
      "outputs": [
        {
          "output_type": "execute_result",
          "data": {
            "text/html": [
              "<div>\n",
              "<style scoped>\n",
              "    .dataframe tbody tr th:only-of-type {\n",
              "        vertical-align: middle;\n",
              "    }\n",
              "\n",
              "    .dataframe tbody tr th {\n",
              "        vertical-align: top;\n",
              "    }\n",
              "\n",
              "    .dataframe thead th {\n",
              "        text-align: right;\n",
              "    }\n",
              "</style>\n",
              "<table border=\"1\" class=\"dataframe\">\n",
              "  <thead>\n",
              "    <tr style=\"text-align: right;\">\n",
              "      <th></th>\n",
              "      <th>loss</th>\n",
              "      <th>accuracy</th>\n",
              "      <th>val_loss</th>\n",
              "      <th>val_accuracy</th>\n",
              "    </tr>\n",
              "  </thead>\n",
              "  <tbody>\n",
              "    <tr>\n",
              "      <th>0</th>\n",
              "      <td>0.229459</td>\n",
              "      <td>0.113711</td>\n",
              "      <td>0.181074</td>\n",
              "      <td>0.162296</td>\n",
              "    </tr>\n",
              "    <tr>\n",
              "      <th>1</th>\n",
              "      <td>0.165764</td>\n",
              "      <td>0.189048</td>\n",
              "      <td>0.150426</td>\n",
              "      <td>0.208282</td>\n",
              "    </tr>\n",
              "    <tr>\n",
              "      <th>2</th>\n",
              "      <td>0.147130</td>\n",
              "      <td>0.216092</td>\n",
              "      <td>0.140052</td>\n",
              "      <td>0.226368</td>\n",
              "    </tr>\n",
              "    <tr>\n",
              "      <th>3</th>\n",
              "      <td>0.138980</td>\n",
              "      <td>0.228171</td>\n",
              "      <td>0.132271</td>\n",
              "      <td>0.237379</td>\n",
              "    </tr>\n",
              "    <tr>\n",
              "      <th>4</th>\n",
              "      <td>0.132690</td>\n",
              "      <td>0.236029</td>\n",
              "      <td>0.127641</td>\n",
              "      <td>0.235021</td>\n",
              "    </tr>\n",
              "    <tr>\n",
              "      <th>5</th>\n",
              "      <td>0.127972</td>\n",
              "      <td>0.242488</td>\n",
              "      <td>0.124840</td>\n",
              "      <td>0.242957</td>\n",
              "    </tr>\n",
              "    <tr>\n",
              "      <th>6</th>\n",
              "      <td>0.124690</td>\n",
              "      <td>0.246517</td>\n",
              "      <td>0.123376</td>\n",
              "      <td>0.246261</td>\n",
              "    </tr>\n",
              "    <tr>\n",
              "      <th>7</th>\n",
              "      <td>0.121922</td>\n",
              "      <td>0.250582</td>\n",
              "      <td>0.119599</td>\n",
              "      <td>0.250725</td>\n",
              "    </tr>\n",
              "    <tr>\n",
              "      <th>8</th>\n",
              "      <td>0.119558</td>\n",
              "      <td>0.254145</td>\n",
              "      <td>0.117626</td>\n",
              "      <td>0.254171</td>\n",
              "    </tr>\n",
              "    <tr>\n",
              "      <th>9</th>\n",
              "      <td>0.117601</td>\n",
              "      <td>0.256789</td>\n",
              "      <td>0.117500</td>\n",
              "      <td>0.252636</td>\n",
              "    </tr>\n",
              "    <tr>\n",
              "      <th>10</th>\n",
              "      <td>0.116159</td>\n",
              "      <td>0.259057</td>\n",
              "      <td>0.114534</td>\n",
              "      <td>0.256886</td>\n",
              "    </tr>\n",
              "    <tr>\n",
              "      <th>11</th>\n",
              "      <td>0.114689</td>\n",
              "      <td>0.261174</td>\n",
              "      <td>0.112082</td>\n",
              "      <td>0.255675</td>\n",
              "    </tr>\n",
              "    <tr>\n",
              "      <th>12</th>\n",
              "      <td>0.113242</td>\n",
              "      <td>0.263127</td>\n",
              "      <td>0.113899</td>\n",
              "      <td>0.256882</td>\n",
              "    </tr>\n",
              "    <tr>\n",
              "      <th>13</th>\n",
              "      <td>0.112133</td>\n",
              "      <td>0.264720</td>\n",
              "      <td>0.112747</td>\n",
              "      <td>0.257743</td>\n",
              "    </tr>\n",
              "    <tr>\n",
              "      <th>14</th>\n",
              "      <td>0.111101</td>\n",
              "      <td>0.266168</td>\n",
              "      <td>0.110137</td>\n",
              "      <td>0.264814</td>\n",
              "    </tr>\n",
              "    <tr>\n",
              "      <th>15</th>\n",
              "      <td>0.110041</td>\n",
              "      <td>0.267501</td>\n",
              "      <td>0.109875</td>\n",
              "      <td>0.266864</td>\n",
              "    </tr>\n",
              "    <tr>\n",
              "      <th>16</th>\n",
              "      <td>0.109089</td>\n",
              "      <td>0.269198</td>\n",
              "      <td>0.109171</td>\n",
              "      <td>0.264950</td>\n",
              "    </tr>\n",
              "    <tr>\n",
              "      <th>17</th>\n",
              "      <td>0.108264</td>\n",
              "      <td>0.270955</td>\n",
              "      <td>0.113145</td>\n",
              "      <td>0.262000</td>\n",
              "    </tr>\n",
              "    <tr>\n",
              "      <th>18</th>\n",
              "      <td>0.107722</td>\n",
              "      <td>0.271486</td>\n",
              "      <td>0.117502</td>\n",
              "      <td>0.262875</td>\n",
              "    </tr>\n",
              "    <tr>\n",
              "      <th>19</th>\n",
              "      <td>0.106976</td>\n",
              "      <td>0.273452</td>\n",
              "      <td>0.110793</td>\n",
              "      <td>0.255243</td>\n",
              "    </tr>\n",
              "  </tbody>\n",
              "</table>\n",
              "</div>"
            ],
            "text/plain": [
              "        loss  accuracy  val_loss  val_accuracy\n",
              "0   0.229459  0.113711  0.181074      0.162296\n",
              "1   0.165764  0.189048  0.150426      0.208282\n",
              "2   0.147130  0.216092  0.140052      0.226368\n",
              "3   0.138980  0.228171  0.132271      0.237379\n",
              "4   0.132690  0.236029  0.127641      0.235021\n",
              "5   0.127972  0.242488  0.124840      0.242957\n",
              "6   0.124690  0.246517  0.123376      0.246261\n",
              "7   0.121922  0.250582  0.119599      0.250725\n",
              "8   0.119558  0.254145  0.117626      0.254171\n",
              "9   0.117601  0.256789  0.117500      0.252636\n",
              "10  0.116159  0.259057  0.114534      0.256886\n",
              "11  0.114689  0.261174  0.112082      0.255675\n",
              "12  0.113242  0.263127  0.113899      0.256882\n",
              "13  0.112133  0.264720  0.112747      0.257743\n",
              "14  0.111101  0.266168  0.110137      0.264814\n",
              "15  0.110041  0.267501  0.109875      0.266864\n",
              "16  0.109089  0.269198  0.109171      0.264950\n",
              "17  0.108264  0.270955  0.113145      0.262000\n",
              "18  0.107722  0.271486  0.117502      0.262875\n",
              "19  0.106976  0.273452  0.110793      0.255243"
            ]
          },
          "metadata": {
            "tags": []
          },
          "execution_count": 54
        }
      ]
    },
    {
      "cell_type": "code",
      "metadata": {
        "id": "cr35kttqUjUy"
      },
      "source": [
        "passed_images = autoencoder.predict(X_test[:10])"
      ],
      "execution_count": 59,
      "outputs": []
    },
    {
      "cell_type": "code",
      "metadata": {
        "colab": {
          "base_uri": "https://localhost:8080/",
          "height": 564
        },
        "id": "RzcQB7v_Vy9W",
        "outputId": "426d2ffe-a47b-4d0b-a198-17b9b8622bcc"
      },
      "source": [
        "n=3\n",
        "\n",
        "print('orginal image')\n",
        "plt.imshow(X_test[n])\n",
        "plt.show()\n",
        "print('reconstucted image')\n",
        "plt.imshow(passed_images[n])"
      ],
      "execution_count": 61,
      "outputs": [
        {
          "output_type": "stream",
          "text": [
            "orginal image\n"
          ],
          "name": "stdout"
        },
        {
          "output_type": "display_data",
          "data": {
            "image/png": "[encoded data removed]",
            "text/plain": [
              "<Figure size 432x288 with 1 Axes>"
            ]
          },
          "metadata": {
            "tags": [],
            "needs_background": "light"
          }
        },
        {
          "output_type": "stream",
          "text": [
            "reconstucted image\n"
          ],
          "name": "stdout"
        },
        {
          "output_type": "execute_result",
          "data": {
            "text/plain": [
              "<matplotlib.image.AxesImage at 0x7f4ab18b8650>"
            ]
          },
          "metadata": {
            "tags": []
          },
          "execution_count": 61
        },
        {
          "output_type": "display_data",
          "data": {
            "image/png": "[encoded data removed]",
            "text/plain": [
              "<Figure size 432x288 with 1 Axes>"
            ]
          },
          "metadata": {
            "tags": [],
            "needs_background": "light"
          }
        }
      ]
    },
    {
      "cell_type": "code",
      "metadata": {
        "id": "6kHjy6QEWDxN"
      },
      "source": [
        "from tensorflow.keras.layers import GaussianNoise"
      ],
      "execution_count": 62,
      "outputs": []
    },
    {
      "cell_type": "code",
      "metadata": {
        "id": "MDO1uUo1Y4Zd"
      },
      "source": [
        "sample = GaussianNoise(0.2)"
      ],
      "execution_count": 63,
      "outputs": []
    },
    {
      "cell_type": "code",
      "metadata": {
        "id": "adNLQSAXY6sw"
      },
      "source": [
        "noisy = sample(X_test[:10], training=True)"
      ],
      "execution_count": 64,
      "outputs": []
    },
    {
      "cell_type": "code",
      "metadata": {
        "colab": {
          "base_uri": "https://localhost:8080/",
          "height": 564
        },
        "id": "GrDmtDEKZBNY",
        "outputId": "9c89de23-c3c2-49a3-b0ab-0790eba609d5"
      },
      "source": [
        "n=3\n",
        "\n",
        "print('orginal image')\n",
        "plt.imshow(X_test[n])\n",
        "plt.show()\n",
        "print('noisy image')\n",
        "plt.imshow(noisy[n])"
      ],
      "execution_count": 66,
      "outputs": [
        {
          "output_type": "stream",
          "text": [
            "orginal image\n"
          ],
          "name": "stdout"
        },
        {
          "output_type": "display_data",
          "data": {
            "image/png": "[encoded data removed]",
            "text/plain": [
              "<Figure size 432x288 with 1 Axes>"
            ]
          },
          "metadata": {
            "tags": [],
            "needs_background": "light"
          }
        },
        {
          "output_type": "stream",
          "text": [
            "noisy image\n"
          ],
          "name": "stdout"
        },
        {
          "output_type": "execute_result",
          "data": {
            "text/plain": [
              "<matplotlib.image.AxesImage at 0x7f4ab3c3f850>"
            ]
          },
          "metadata": {
            "tags": []
          },
          "execution_count": 66
        },
        {
          "output_type": "display_data",
          "data": {
            "image/png": "[encoded data removed]",
            "text/plain": [
              "<Figure size 432x288 with 1 Axes>"
            ]
          },
          "metadata": {
            "tags": [],
            "needs_background": "light"
          }
        }
      ]
    },
    {
      "cell_type": "code",
      "metadata": {
        "id": "u1E5JhncZHxg"
      },
      "source": [
        "import tensorflow as tf"
      ],
      "execution_count": 67,
      "outputs": []
    },
    {
      "cell_type": "code",
      "metadata": {
        "id": "d2grifwsZRJ4"
      },
      "source": [
        "tf.random.set_seed(101)\n",
        "np.random.seed(101)\n",
        "\n",
        "encoder = Sequential()\n",
        "encoder.add(Flatten(input_shape=[28,28]))\n",
        "encoder.add(GaussianNoise(0.2))\n",
        "encoder.add(Dense(400,activation='relu'))\n",
        "encoder.add(Dense(200,activation='relu'))\n",
        "encoder.add(Dense(100,activation='relu'))\n",
        "encoder.add(Dense(50,activation='relu'))\n",
        "encoder.add(Dense(25,activation='relu'))"
      ],
      "execution_count": 68,
      "outputs": []
    },
    {
      "cell_type": "code",
      "metadata": {
        "id": "NioOi2-RZnck"
      },
      "source": [
        "decoder = Sequential()\n",
        "decoder.add(Dense(50,input_shape=[25],activation='relu'))\n",
        "decoder.add(Dense(100,activation='relu'))\n",
        "decoder.add(Dense(200,activation='relu'))\n",
        "decoder.add(Dense(400,activation='relu'))\n",
        "decoder.add(Dense(784,activation='sigmoid'))\n",
        "decoder.add(Reshape([28,28]))"
      ],
      "execution_count": 69,
      "outputs": []
    },
    {
      "cell_type": "code",
      "metadata": {
        "id": "kb8OC3iBZod5"
      },
      "source": [
        "noise_remove = Sequential([encoder,decoder])\n",
        "noise_remove.compile(loss='binary_crossentropy',optimizer='adam',metrics=['accuracy'])"
      ],
      "execution_count": 70,
      "outputs": []
    },
    {
      "cell_type": "code",
      "metadata": {
        "id": "5-8umOUxajd9"
      },
      "source": [
        "noise_remove.summary()"
      ],
      "execution_count": null,
      "outputs": []
    },
    {
      "cell_type": "code",
      "metadata": {
        "colab": {
          "base_uri": "https://localhost:8080/"
        },
        "id": "A8ut1aYzZzFA",
        "outputId": "bf97247f-a5d8-4035-8c9e-b8a29fef27fd"
      },
      "source": [
        "noise_remove.fit(X_train,X_train,epochs=20,\n",
        "                validation_data=(X_test,X_test))"
      ],
      "execution_count": 71,
      "outputs": [
        {
          "output_type": "stream",
          "text": [
            "Epoch 1/20\n",
            "1875/1875 [==============================] - 24s 12ms/step - loss: 0.2149 - accuracy: 0.1375 - val_loss: 0.1358 - val_accuracy: 0.2227\n",
            "Epoch 2/20\n",
            "1875/1875 [==============================] - 22s 12ms/step - loss: 0.1335 - accuracy: 0.2277 - val_loss: 0.1208 - val_accuracy: 0.2382\n",
            "Epoch 3/20\n",
            "1875/1875 [==============================] - 23s 12ms/step - loss: 0.1223 - accuracy: 0.2425 - val_loss: 0.1154 - val_accuracy: 0.2501\n",
            "Epoch 4/20\n",
            "1875/1875 [==============================] - 23s 12ms/step - loss: 0.1173 - accuracy: 0.2506 - val_loss: 0.1111 - val_accuracy: 0.2530\n",
            "Epoch 5/20\n",
            "1875/1875 [==============================] - 23s 12ms/step - loss: 0.1130 - accuracy: 0.2598 - val_loss: 0.1072 - val_accuracy: 0.2664\n",
            "Epoch 6/20\n",
            "1875/1875 [==============================] - 22s 12ms/step - loss: 0.1098 - accuracy: 0.2650 - val_loss: 0.1059 - val_accuracy: 0.2682\n",
            "Epoch 7/20\n",
            "1875/1875 [==============================] - 23s 12ms/step - loss: 0.1078 - accuracy: 0.2688 - val_loss: 0.1039 - val_accuracy: 0.2701\n",
            "Epoch 8/20\n",
            "1875/1875 [==============================] - 23s 12ms/step - loss: 0.1066 - accuracy: 0.2706 - val_loss: 0.1025 - val_accuracy: 0.2734\n",
            "Epoch 9/20\n",
            "1875/1875 [==============================] - 23s 12ms/step - loss: 0.1053 - accuracy: 0.2719 - val_loss: 0.1019 - val_accuracy: 0.2746\n",
            "Epoch 10/20\n",
            "1875/1875 [==============================] - 23s 12ms/step - loss: 0.1040 - accuracy: 0.2767 - val_loss: 0.1003 - val_accuracy: 0.2791\n",
            "Epoch 11/20\n",
            "1875/1875 [==============================] - 23s 12ms/step - loss: 0.1029 - accuracy: 0.2769 - val_loss: 0.0998 - val_accuracy: 0.2799\n",
            "Epoch 12/20\n",
            "1875/1875 [==============================] - 23s 12ms/step - loss: 0.1022 - accuracy: 0.2795 - val_loss: 0.0989 - val_accuracy: 0.2824\n",
            "Epoch 13/20\n",
            "1875/1875 [==============================] - 23s 12ms/step - loss: 0.1012 - accuracy: 0.2825 - val_loss: 0.0974 - val_accuracy: 0.2829\n",
            "Epoch 14/20\n",
            "1875/1875 [==============================] - 22s 12ms/step - loss: 0.1003 - accuracy: 0.2853 - val_loss: 0.0964 - val_accuracy: 0.2828\n",
            "Epoch 15/20\n",
            "1875/1875 [==============================] - 22s 12ms/step - loss: 0.0995 - accuracy: 0.2856 - val_loss: 0.0966 - val_accuracy: 0.2871\n",
            "Epoch 16/20\n",
            "1875/1875 [==============================] - 22s 12ms/step - loss: 0.0988 - accuracy: 0.2870 - val_loss: 0.0959 - val_accuracy: 0.2917\n",
            "Epoch 17/20\n",
            "1875/1875 [==============================] - 22s 12ms/step - loss: 0.0983 - accuracy: 0.2882 - val_loss: 0.0959 - val_accuracy: 0.2931\n",
            "Epoch 18/20\n",
            "1875/1875 [==============================] - 22s 12ms/step - loss: 0.0974 - accuracy: 0.2918 - val_loss: 0.0944 - val_accuracy: 0.2842\n",
            "Epoch 19/20\n",
            "1875/1875 [==============================] - 22s 12ms/step - loss: 0.0970 - accuracy: 0.2915 - val_loss: 0.0941 - val_accuracy: 0.2948\n",
            "Epoch 20/20\n",
            "1875/1875 [==============================] - 23s 12ms/step - loss: 0.0964 - accuracy: 0.2942 - val_loss: 0.0936 - val_accuracy: 0.2946\n"
          ],
          "name": "stdout"
        },
        {
          "output_type": "execute_result",
          "data": {
            "text/plain": [
              "<tensorflow.python.keras.callbacks.History at 0x7f4ab7577dd0>"
            ]
          },
          "metadata": {
            "tags": []
          },
          "execution_count": 71
        }
      ]
    },
    {
      "cell_type": "code",
      "metadata": {
        "id": "8Ns7966mZ3GI"
      },
      "source": [
        "denoised = noise_remove(noisy)"
      ],
      "execution_count": 72,
      "outputs": []
    },
    {
      "cell_type": "code",
      "metadata": {
        "id": "_2nJabTQdFWl"
      },
      "source": [
        ""
      ],
      "execution_count": null,
      "outputs": []
    },
    {
      "cell_type": "code",
      "metadata": {
        "colab": {
          "base_uri": "https://localhost:8080/",
          "height": 826
        },
        "id": "1n9sVxXPcZQT",
        "outputId": "eb1bfab6-84b8-48cc-b08e-9f7ce243c7b1"
      },
      "source": [
        "n=3\n",
        "plt.imshow(X_test[n])\n",
        "plt.title('orginal image')\n",
        "plt.show()\n",
        "\n",
        "plt.imshow(noisy[n])\n",
        "plt.title('noisy image')\n",
        "plt.show()\n",
        "\n",
        "plt.imshow(denoised[n])\n",
        "plt.title('denoised image')"
      ],
      "execution_count": 81,
      "outputs": [
        {
          "output_type": "display_data",
          "data": {
            "image/png": "[encoded data removed]",
            "text/plain": [
              "<Figure size 432x288 with 1 Axes>"
            ]
          },
          "metadata": {
            "tags": [],
            "needs_background": "light"
          }
        },
        {
          "output_type": "display_data",
          "data": {
            "image/png": "[encoded data removed]",
            "text/plain": [
              "<Figure size 432x288 with 1 Axes>"
            ]
          },
          "metadata": {
            "tags": [],
            "needs_background": "light"
          }
        },
        {
          "output_type": "execute_result",
          "data": {
            "text/plain": [
              "Text(0.5, 1.0, 'denoised image')"
            ]
          },
          "metadata": {
            "tags": []
          },
          "execution_count": 81
        },
        {
          "output_type": "display_data",
          "data": {
            "image/png": "[encoded data removed]",
            "text/plain": [
              "<Figure size 432x288 with 1 Axes>"
            ]
          },
          "metadata": {
            "tags": [],
            "needs_background": "light"
          }
        }
      ]
    },
    {
      "cell_type": "code",
      "metadata": {
        "id": "BZQj9Lu1cfu3"
      },
      "source": [
        "noise_remove.save('image_noise_removal.h5')"
      ],
      "execution_count": 82,
      "outputs": []
    },
    {
      "cell_type": "code",
      "metadata": {
        "id": "hCiPTMFgdykS"
      },
      "source": [
        ""
      ],
      "execution_count": null,
      "outputs": []
    }
  ]
}